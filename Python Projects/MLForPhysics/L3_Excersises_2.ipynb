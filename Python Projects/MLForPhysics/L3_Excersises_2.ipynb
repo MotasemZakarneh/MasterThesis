{
 "cells": [
  {
   "cell_type": "code",
   "execution_count": 10,
   "metadata": {},
   "outputs": [],
   "source": [
    "import numpy as np\n",
    "import matplotlib.pyplot as plt\n",
    "import matplotlib as plotlib\n",
    "import JG_Helpers as jg"
   ]
  },
  {
   "cell_type": "code",
   "execution_count": 11,
   "metadata": {},
   "outputs": [
    {
     "name": "stdout",
     "output_type": "stream",
     "text": [
      "[-0.5  1.5]\n",
      "[0. 1.]\n",
      "[0.]\n"
     ]
    }
   ],
   "source": [
    "y_in = [0,0]  # the point that we want to test\n",
    "# Data Values:\n",
    "weigths_hidden = [\n",
    "    # n1_weigth,n2_weigth\n",
    "    [1.0, 1.0],  # weigths to first neuron in hidden layer\n",
    "    [-1.0, -1.0],  # weigths to second neuron in hidden layer\n",
    "]\n",
    "\n",
    "biases_hidden = [-0.5,1.5]\n",
    "\n",
    "res = jg.apply_layer(y_in, weigths_hidden, biases_hidden, \"lin\")\n",
    "print(res)\n",
    "res = jg.apply_layer(y_in, weigths_hidden, biases_hidden, jg.activation_jump)\n",
    "print(res)\n",
    "\n",
    "\n",
    "weigth_to_out = [1.0,1.0]\n",
    "biases_out = [-1.5]\n",
    "res2 = jg.apply_layer(res,weigth_to_out,biases_out,\"jump\")\n",
    "print(res2)"
   ]
  },
  {
   "cell_type": "code",
   "execution_count": 12,
   "metadata": {},
   "outputs": [
    {
     "name": "stdout",
     "output_type": "stream",
     "text": [
      "[1.]\n"
     ]
    }
   ],
   "source": [
    "print(jg.XOR2D(1,0))"
   ]
  }
 ],
 "metadata": {
  "kernelspec": {
   "display_name": "Python 3.10.4 ('venv': venv)",
   "language": "python",
   "name": "python3"
  },
  "language_info": {
   "codemirror_mode": {
    "name": "ipython",
    "version": 3
   },
   "file_extension": ".py",
   "mimetype": "text/x-python",
   "name": "python",
   "nbconvert_exporter": "python",
   "pygments_lexer": "ipython3",
   "version": "3.10.4"
  },
  "orig_nbformat": 4,
  "vscode": {
   "interpreter": {
    "hash": "175f523912a232a52cd2073143067865f3c8ae24668e5bc8c83109efbfe966ef"
   }
  }
 },
 "nbformat": 4,
 "nbformat_minor": 2
}
