{
 "cells": [
  {
   "cell_type": "code",
   "execution_count": 1,
   "metadata": {},
   "outputs": [],
   "source": [
    "import numpy as np\n",
    "\n",
    "N0 = 4 #input layer size\n",
    "N1 = 2 #output layer size\n",
    "\n",
    "w = np.random.uniform(low=-1,high=1,size=(N1,N0)) #weigths matrix of size N1xN0\n",
    "b = np.random.uniform(low=-1,high=1,size=(N1)) #offset vector of size N1 (output)"
   ]
  },
  {
   "cell_type": "code",
   "execution_count": 2,
   "metadata": {},
   "outputs": [],
   "source": [
    "y_in = np.array([-1,0.5,-0.5,0.75]) #input layer data\n",
    "z = np.dot(w,y_in) + b #super position"
   ]
  },
  {
   "cell_type": "code",
   "execution_count": 3,
   "metadata": {},
   "outputs": [
    {
     "name": "stdout",
     "output_type": "stream",
     "text": [
      "y out value  [0.42979265 0.07827482]\n"
     ]
    }
   ],
   "source": [
    "y_out = 1/(1+np.exp(-z)) #sigmoid function applied element wise\n",
    "print(\"y out value \",y_out)"
   ]
  },
  {
   "cell_type": "code",
   "execution_count": 4,
   "metadata": {},
   "outputs": [],
   "source": [
    "def apply_net(y_in_val):#define function\n",
    "    global w,b\n",
    "    z = np.dot(w,y_in_val)+b\n",
    "    fz = 1/(1+np.exp(-z))\n",
    "    return fz"
   ]
  },
  {
   "cell_type": "code",
   "execution_count": 5,
   "metadata": {},
   "outputs": [],
   "source": [
    "N0 = 2\n",
    "N1 = 1\n",
    "\n",
    "w = np.random.uniform(low=-1,high=1,size=(N1,N0)) #weigths matrix of size N1xN0\n",
    "b = np.random.uniform(low=-1,high=1,size=(N1)) #offset vector of size N1 (output)"
   ]
  },
  {
   "cell_type": "code",
   "execution_count": 6,
   "metadata": {},
   "outputs": [
    {
     "data": {
      "text/plain": [
       "array([0.36437092])"
      ]
     },
     "execution_count": 6,
     "metadata": {},
     "output_type": "execute_result"
    }
   ],
   "source": [
    "apply_net([0.83,-0.3])"
   ]
  },
  {
   "cell_type": "code",
   "execution_count": 7,
   "metadata": {},
   "outputs": [
    {
     "name": "stderr",
     "output_type": "stream",
     "text": [
      "UsageError: unrecognized arguments: picture within notebook\n"
     ]
    }
   ],
   "source": [
    "import matplotlib.pyplot as plt\n",
    "%matplotlib #display picture within notebook"
   ]
  }
 ],
 "metadata": {
  "kernelspec": {
   "display_name": "Python 3.8.10 ('venv': venv)",
   "language": "python",
   "name": "python3"
  },
  "language_info": {
   "codemirror_mode": {
    "name": "ipython",
    "version": 3
   },
   "file_extension": ".py",
   "mimetype": "text/x-python",
   "name": "python",
   "nbconvert_exporter": "python",
   "pygments_lexer": "ipython3",
   "version": "3.8.10"
  },
  "orig_nbformat": 4,
  "vscode": {
   "interpreter": {
    "hash": "8a46a4a04ddb101ba9c63fe9824c5a1b5241bba42b520c4e7666929978509d7c"
   }
  }
 },
 "nbformat": 4,
 "nbformat_minor": 2
}
