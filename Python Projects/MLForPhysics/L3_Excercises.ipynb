{
 "cells": [
  {
   "cell_type": "code",
   "execution_count": 28,
   "metadata": {},
   "outputs": [
    {
     "name": "stdout",
     "output_type": "stream",
     "text": [
      "Hello World\n",
      "JG_Helpers Was Imported Properly\n",
      "None\n",
      "[[0 0 0]\n",
      " [1 1 1]\n",
      " [2 2 2]]\n",
      "(3, 3)\n"
     ]
    }
   ],
   "source": [
    "import numpy as np\n",
    "import JG_Helpers as jg\n",
    "\n",
    "print(\"Hello World\")\n",
    "\n",
    "print(jg.test_implementation())\n",
    "\n",
    "y_in = [[1, 1, 1], [2, 2, 2], [3, 3, 3]]\n",
    "b = [-1,-1,-1]\n",
    "\n",
    "#weigths = np.random.uniform(low=-1, high=1, size=(3, 3))\n",
    "#z = np.dot(y_in, weigths)\n",
    "#print(z.shape, \":: without b\")\n",
    "#print(b.shape)\n",
    "\n",
    "z = np.array(y_in) + b\n",
    "print(z)\n",
    "print(z.shape)"
   ]
  }
 ],
 "metadata": {
  "kernelspec": {
   "display_name": "Python 3.8.10 ('venv': venv)",
   "language": "python",
   "name": "python3"
  },
  "language_info": {
   "codemirror_mode": {
    "name": "ipython",
    "version": 3
   },
   "file_extension": ".py",
   "mimetype": "text/x-python",
   "name": "python",
   "nbconvert_exporter": "python",
   "pygments_lexer": "ipython3",
   "version": "3.8.10"
  },
  "orig_nbformat": 4,
  "vscode": {
   "interpreter": {
    "hash": "8a46a4a04ddb101ba9c63fe9824c5a1b5241bba42b520c4e7666929978509d7c"
   }
  }
 },
 "nbformat": 4,
 "nbformat_minor": 2
}
