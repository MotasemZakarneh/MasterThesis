{
 "cells": [
  {
   "cell_type": "code",
   "execution_count": 19,
   "metadata": {},
   "outputs": [],
   "source": [
    "import numpy as np\n",
    "\n",
    "N0 = 4 #input layer size\n",
    "N1 = 2 #output layer size\n",
    "\n",
    "w = np.random.uniform(low=-1,high=1,size=(N1,N0)) #weigths matrix of size N1xN0\n",
    "b = np.random.uniform(low=-1,high=1,size=(N1)) #offset vector of size N1 (output)"
   ]
  },
  {
   "cell_type": "code",
   "execution_count": 20,
   "metadata": {},
   "outputs": [],
   "source": [
    "y_in = np.array([-1,0.5,-0.5,0.75]) #input layer data\n",
    "z = np.dot(w,y_in) + b #super position"
   ]
  },
  {
   "cell_type": "code",
   "execution_count": 21,
   "metadata": {},
   "outputs": [
    {
     "name": "stdout",
     "output_type": "stream",
     "text": [
      "y out value  [0.68097158 0.39009746]\n"
     ]
    }
   ],
   "source": [
    "y_out = 1/(1+np.exp(-z)) #sigmoid function applied element wise\n",
    "print(\"y out value \",y_out)"
   ]
  },
  {
   "cell_type": "code",
   "execution_count": 22,
   "metadata": {},
   "outputs": [],
   "source": [
    "def apply_net(y_in_val):#define function\n",
    "    global w,b\n",
    "    z = np.dot(w,y_in_val)+b\n",
    "    fz = 1/(1+np.exp(-z))\n",
    "    return fz"
   ]
  },
  {
   "cell_type": "code",
   "execution_count": 23,
   "metadata": {},
   "outputs": [],
   "source": [
    "N0 = 2\n",
    "N1 = 1\n",
    "\n",
    "w = np.random.uniform(low=-1,high=1,size=(N1,N0)) #weigths matrix of size N1xN0\n",
    "b = np.random.uniform(low=-1,high=1,size=(N1)) #offset vector of size N1 (output)"
   ]
  },
  {
   "cell_type": "code",
   "execution_count": 24,
   "metadata": {},
   "outputs": [
    {
     "data": {
      "text/plain": [
       "array([0.87175144])"
      ]
     },
     "execution_count": 24,
     "metadata": {},
     "output_type": "execute_result"
    }
   ],
   "source": [
    "apply_net([0.83,-0.3])"
   ]
  },
  {
   "cell_type": "code",
   "execution_count": 25,
   "metadata": {},
   "outputs": [
    {
     "ename": "ModuleNotFoundError",
     "evalue": "No module named 'matplotlib'",
     "output_type": "error",
     "traceback": [
      "\u001b[1;31m---------------------------------------------------------------------------\u001b[0m",
      "\u001b[1;31mModuleNotFoundError\u001b[0m                       Traceback (most recent call last)",
      "\u001b[1;32mc:\\Users\\The Jondob\\Desktop\\Masters\\MasterThesis\\Python Projects\\L1_Sample\\L1.ipynb Cell 7\u001b[0m in \u001b[0;36m<cell line: 1>\u001b[1;34m()\u001b[0m\n\u001b[1;32m----> <a href='vscode-notebook-cell:/c%3A/Users/The%20Jondob/Desktop/Masters/MasterThesis/Python%20Projects/L1_Sample/L1.ipynb#ch0000007?line=0'>1</a>\u001b[0m \u001b[39mimport\u001b[39;00m \u001b[39mmatplotlib\u001b[39;00m\u001b[39m.\u001b[39;00m\u001b[39mpyplot\u001b[39;00m \u001b[39mas\u001b[39;00m \u001b[39mplt\u001b[39;00m\n\u001b[0;32m      <a href='vscode-notebook-cell:/c%3A/Users/The%20Jondob/Desktop/Masters/MasterThesis/Python%20Projects/L1_Sample/L1.ipynb#ch0000007?line=1'>2</a>\u001b[0m get_ipython()\u001b[39m.\u001b[39mrun_line_magic(\u001b[39m'\u001b[39m\u001b[39mmatplotlib\u001b[39m\u001b[39m'\u001b[39m, \u001b[39m'\u001b[39m\u001b[39m#display picture within notebook\u001b[39m\u001b[39m'\u001b[39m)\n",
      "\u001b[1;31mModuleNotFoundError\u001b[0m: No module named 'matplotlib'"
     ]
    }
   ],
   "source": [
    "import matplotlib.pyplot as plt\n",
    "%matplotlib #display picture within notebook"
   ]
  }
 ],
 "metadata": {
  "kernelspec": {
   "display_name": "Python 3.10.4 64-bit",
   "language": "python",
   "name": "python3"
  },
  "language_info": {
   "codemirror_mode": {
    "name": "ipython",
    "version": 3
   },
   "file_extension": ".py",
   "mimetype": "text/x-python",
   "name": "python",
   "nbconvert_exporter": "python",
   "pygments_lexer": "ipython3",
   "version": "3.10.4"
  },
  "orig_nbformat": 4,
  "vscode": {
   "interpreter": {
    "hash": "6428df82617e0ba2c8c7001711e04a0dd420f1610c35237df33780e8fc92fa5d"
   }
  }
 },
 "nbformat": 4,
 "nbformat_minor": 2
}
